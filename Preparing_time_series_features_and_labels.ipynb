{
  "nbformat": 4,
  "nbformat_minor": 0,
  "metadata": {
    "colab": {
      "name": "Preparing time series- features and labels.ipynb",
      "provenance": [],
      "authorship_tag": "ABX9TyO24sr93xqS9/LbgcHZ4pO2",
      "include_colab_link": true
    },
    "kernelspec": {
      "name": "python3",
      "display_name": "Python 3"
    },
    "language_info": {
      "name": "python"
    }
  },
  "cells": [
    {
      "cell_type": "markdown",
      "metadata": {
        "id": "view-in-github",
        "colab_type": "text"
      },
      "source": [
        "<a href=\"https://colab.research.google.com/github/Ankur099IIT/Sequences-Time-Series-and-Prediction-Course-4--deeplearning.ai/blob/main/Preparing_time_series_features_and_labels.ipynb\" target=\"_parent\"><img src=\"https://colab.research.google.com/assets/colab-badge.svg\" alt=\"Open In Colab\"/></a>"
      ]
    },
    {
      "cell_type": "code",
      "execution_count": 23,
      "metadata": {
        "id": "Ac8nw_tREebN"
      },
      "outputs": [],
      "source": [
        "import tensorflow as tf\n",
        "\n"
      ]
    },
    {
      "cell_type": "code",
      "source": [
        "dataset = tf.data.Dataset.range(10)"
      ],
      "metadata": {
        "id": "bgGOjdVnjkx2"
      },
      "execution_count": 24,
      "outputs": []
    },
    {
      "cell_type": "code",
      "source": [
        "for val in dataset:\n",
        "  print(val.numpy())"
      ],
      "metadata": {
        "colab": {
          "base_uri": "https://localhost:8080/"
        },
        "id": "9fjyiy2VjthP",
        "outputId": "c5912f64-7b36-4636-824a-8bafe4198b1c"
      },
      "execution_count": 25,
      "outputs": [
        {
          "output_type": "stream",
          "name": "stdout",
          "text": [
            "0\n",
            "1\n",
            "2\n",
            "3\n",
            "4\n",
            "5\n",
            "6\n",
            "7\n",
            "8\n",
            "9\n"
          ]
        }
      ]
    },
    {
      "cell_type": "code",
      "source": [
        "dataset = dataset.window(size = 5, shift = 1)\n"
      ],
      "metadata": {
        "id": "ccF_yMQTjzvZ"
      },
      "execution_count": 26,
      "outputs": []
    },
    {
      "cell_type": "code",
      "source": [
        "for window_dataset in dataset:\n",
        "  print(window_dataset)"
      ],
      "metadata": {
        "colab": {
          "base_uri": "https://localhost:8080/"
        },
        "id": "0FBXQLYqkV-v",
        "outputId": "091a1b98-8ab5-4b8b-8dee-62ca51f78717"
      },
      "execution_count": 27,
      "outputs": [
        {
          "output_type": "stream",
          "name": "stdout",
          "text": [
            "<_VariantDataset element_spec=TensorSpec(shape=(), dtype=tf.int64, name=None)>\n",
            "<_VariantDataset element_spec=TensorSpec(shape=(), dtype=tf.int64, name=None)>\n",
            "<_VariantDataset element_spec=TensorSpec(shape=(), dtype=tf.int64, name=None)>\n",
            "<_VariantDataset element_spec=TensorSpec(shape=(), dtype=tf.int64, name=None)>\n",
            "<_VariantDataset element_spec=TensorSpec(shape=(), dtype=tf.int64, name=None)>\n",
            "<_VariantDataset element_spec=TensorSpec(shape=(), dtype=tf.int64, name=None)>\n",
            "<_VariantDataset element_spec=TensorSpec(shape=(), dtype=tf.int64, name=None)>\n",
            "<_VariantDataset element_spec=TensorSpec(shape=(), dtype=tf.int64, name=None)>\n",
            "<_VariantDataset element_spec=TensorSpec(shape=(), dtype=tf.int64, name=None)>\n",
            "<_VariantDataset element_spec=TensorSpec(shape=(), dtype=tf.int64, name=None)>\n"
          ]
        }
      ]
    },
    {
      "cell_type": "code",
      "source": [
        "for window_dataset in dataset:\n",
        "  print([item.numpy() for item in window_dataset])"
      ],
      "metadata": {
        "colab": {
          "base_uri": "https://localhost:8080/"
        },
        "id": "4zMQQHD4kbql",
        "outputId": "772a040e-a99c-43f3-9b03-5540bcefb313"
      },
      "execution_count": 28,
      "outputs": [
        {
          "output_type": "stream",
          "name": "stdout",
          "text": [
            "[0, 1, 2, 3, 4]\n",
            "[1, 2, 3, 4, 5]\n",
            "[2, 3, 4, 5, 6]\n",
            "[3, 4, 5, 6, 7]\n",
            "[4, 5, 6, 7, 8]\n",
            "[5, 6, 7, 8, 9]\n",
            "[6, 7, 8, 9]\n",
            "[7, 8, 9]\n",
            "[8, 9]\n",
            "[9]\n"
          ]
        }
      ]
    },
    {
      "cell_type": "code",
      "source": [
        "dataset = tf.data.Dataset.range(10)\n",
        "\n",
        "dataset = dataset.window(size = 5, shift = 1, drop_remainder = True)\n",
        "\n",
        "for window_dataset in dataset:\n",
        "  print([item.numpy() for item in window_dataset])"
      ],
      "metadata": {
        "colab": {
          "base_uri": "https://localhost:8080/"
        },
        "id": "pFXlUM7Vk3sh",
        "outputId": "e87dd39a-03ac-452a-8d7f-2a7efbfaa14b"
      },
      "execution_count": 33,
      "outputs": [
        {
          "output_type": "stream",
          "name": "stdout",
          "text": [
            "[0, 1, 2, 3, 4]\n",
            "[1, 2, 3, 4, 5]\n",
            "[2, 3, 4, 5, 6]\n",
            "[3, 4, 5, 6, 7]\n",
            "[4, 5, 6, 7, 8]\n",
            "[5, 6, 7, 8, 9]\n"
          ]
        }
      ]
    },
    {
      "cell_type": "code",
      "source": [
        "type(dataset)"
      ],
      "metadata": {
        "colab": {
          "base_uri": "https://localhost:8080/"
        },
        "id": "sA2EJyhvlLky",
        "outputId": "91d55a34-7de8-4264-9900-e877d9f5f540"
      },
      "execution_count": 34,
      "outputs": [
        {
          "output_type": "execute_result",
          "data": {
            "text/plain": [
              "tensorflow.python.data.ops.dataset_ops.WindowDataset"
            ]
          },
          "metadata": {},
          "execution_count": 34
        }
      ]
    },
    {
      "cell_type": "code",
      "source": [
        "dataset = tf.data.Dataset.range(10)\n",
        "\n",
        "dataset = dataset.window(5, shift = 1, drop_remainder = True)\n",
        "\n",
        "dataset = dataset.flat_map(lambda window: window.batch(5))\n",
        "\n",
        "for window in dataset:\n",
        "  print(window.numpy())\n"
      ],
      "metadata": {
        "colab": {
          "base_uri": "https://localhost:8080/"
        },
        "id": "JfUPFIXklYGD",
        "outputId": "65738ed6-aed8-4af9-894a-a3aa20447405"
      },
      "execution_count": 35,
      "outputs": [
        {
          "output_type": "stream",
          "name": "stdout",
          "text": [
            "[0 1 2 3 4]\n",
            "[1 2 3 4 5]\n",
            "[2 3 4 5 6]\n",
            "[3 4 5 6 7]\n",
            "[4 5 6 7 8]\n",
            "[5 6 7 8 9]\n"
          ]
        }
      ]
    },
    {
      "cell_type": "code",
      "source": [
        "type(dataset)"
      ],
      "metadata": {
        "colab": {
          "base_uri": "https://localhost:8080/"
        },
        "id": "SP7JkCfhpSJ6",
        "outputId": "f094aeed-890e-4f09-be58-621eb94210f6"
      },
      "execution_count": 36,
      "outputs": [
        {
          "output_type": "execute_result",
          "data": {
            "text/plain": [
              "tensorflow.python.data.ops.dataset_ops.FlatMapDataset"
            ]
          },
          "metadata": {},
          "execution_count": 36
        }
      ]
    },
    {
      "cell_type": "code",
      "source": [
        "dataset = tf.data.Dataset.range(10)\n",
        "\n",
        "dataset = dataset.window(5, shift = 1, drop_remainder = True)\n",
        "\n",
        "dataset = dataset.flat_map(lambda window: window.batch(5))\n",
        "\n",
        "dataset = dataset.map(lambda window: (window[:-1], window[-1]))\n",
        "\n",
        "for x, y in dataset:\n",
        "  print('x = ', x.numpy())\n",
        "  print('y= ', y.numpy())\n",
        "  print()\n"
      ],
      "metadata": {
        "colab": {
          "base_uri": "https://localhost:8080/"
        },
        "id": "FFLDqpAaptyZ",
        "outputId": "36c81595-528b-428e-cc4e-2051310bc262"
      },
      "execution_count": 39,
      "outputs": [
        {
          "output_type": "stream",
          "name": "stdout",
          "text": [
            "x =  [0 1 2 3]\n",
            "y=  4\n",
            "\n",
            "x =  [1 2 3 4]\n",
            "y=  5\n",
            "\n",
            "x =  [2 3 4 5]\n",
            "y=  6\n",
            "\n",
            "x =  [3 4 5 6]\n",
            "y=  7\n",
            "\n",
            "x =  [4 5 6 7]\n",
            "y=  8\n",
            "\n",
            "x =  [5 6 7 8]\n",
            "y=  9\n",
            "\n"
          ]
        }
      ]
    },
    {
      "cell_type": "code",
      "source": [
        "dataset = tf.data.Dataset.range(10)\n",
        "\n",
        "dataset = dataset.window(5, shift = 1, drop_remainder = True)\n",
        "\n",
        "dataset = dataset.flat_map(lambda window: window.batch(5))\n",
        "\n",
        "dataset = dataset.map(lambda window: (window[:-1], window[-1]))\n",
        "\n",
        "dataset = dataset.shuffle(buffer_size = 10)\n",
        "\n",
        "for x, y in dataset:\n",
        "  print('x = ', x.numpy())\n",
        "  print('y= ', y.numpy())\n",
        "  print()"
      ],
      "metadata": {
        "colab": {
          "base_uri": "https://localhost:8080/"
        },
        "id": "KvwHupcEqSHs",
        "outputId": "c76739b3-8789-470e-b356-1783329ac8e8"
      },
      "execution_count": 40,
      "outputs": [
        {
          "output_type": "stream",
          "name": "stdout",
          "text": [
            "x =  [0 1 2 3]\n",
            "y=  4\n",
            "\n",
            "x =  [5 6 7 8]\n",
            "y=  9\n",
            "\n",
            "x =  [1 2 3 4]\n",
            "y=  5\n",
            "\n",
            "x =  [2 3 4 5]\n",
            "y=  6\n",
            "\n",
            "x =  [3 4 5 6]\n",
            "y=  7\n",
            "\n",
            "x =  [4 5 6 7]\n",
            "y=  8\n",
            "\n"
          ]
        }
      ]
    },
    {
      "cell_type": "code",
      "source": [
        "dataset = tf.data.Dataset.range(10)\n",
        "\n",
        "dataset = dataset.window(5, shift = 1, drop_remainder = True)\n",
        "\n",
        "dataset = dataset.flat_map(lambda window: window.batch(5))\n",
        "\n",
        "dataset = dataset.map(lambda window: (window[:-1], window[-1]))\n",
        "\n",
        "dataset = dataset.shuffle(buffer_size = 10)\n",
        "\n",
        "dataset = dataset.batch(2).prefetch(1)\n",
        "\n",
        "for x, y in dataset:\n",
        "  print('x = ', x.numpy())\n",
        "  print('y= ', y.numpy())\n",
        "  print()"
      ],
      "metadata": {
        "colab": {
          "base_uri": "https://localhost:8080/"
        },
        "id": "Xp3EhiwyrV7T",
        "outputId": "35cb041c-c2d8-4ca2-e636-8f9f65a9dbb3"
      },
      "execution_count": 42,
      "outputs": [
        {
          "output_type": "stream",
          "name": "stdout",
          "text": [
            "x =  [[1 2 3 4]\n",
            " [0 1 2 3]]\n",
            "y=  [5 4]\n",
            "\n",
            "x =  [[3 4 5 6]\n",
            " [4 5 6 7]]\n",
            "y=  [7 8]\n",
            "\n",
            "x =  [[2 3 4 5]\n",
            " [5 6 7 8]]\n",
            "y=  [6 9]\n",
            "\n"
          ]
        }
      ]
    },
    {
      "cell_type": "code",
      "source": [
        ""
      ],
      "metadata": {
        "id": "o9VSH7DdsJpG"
      },
      "execution_count": null,
      "outputs": []
    }
  ]
}