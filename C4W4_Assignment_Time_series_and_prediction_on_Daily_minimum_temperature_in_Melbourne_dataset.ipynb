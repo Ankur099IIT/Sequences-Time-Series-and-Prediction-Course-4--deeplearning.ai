{
  "cells": [
    {
      "cell_type": "markdown",
      "metadata": {
        "id": "view-in-github",
        "colab_type": "text"
      },
      "source": [
        "<a href=\"https://colab.research.google.com/github/Ankur099IIT/Sequences-Time-Series-and-Prediction-Course-4--deeplearning.ai/blob/main/C4W4_Assignment_Time_series_and_prediction_on_Daily_minimum_temperature_in_Melbourne_dataset.ipynb\" target=\"_parent\"><img src=\"https://colab.research.google.com/assets/colab-badge.svg\" alt=\"Open In Colab\"/></a>"
      ]
    },
    {
      "cell_type": "markdown",
      "metadata": {
        "id": "VOR__HGAQi1I"
      },
      "source": [
        "# Week 4: Using real world data\n",
        "\n",
        "Welcome! So far you have worked exclusively with generated data. This time you will be using the [Daily Minimum Temperatures in Melbourne](https://github.com/jbrownlee/Datasets/blob/master/daily-min-temperatures.csv) dataset which contains data of the daily minimum temperatures recorded in Melbourne from 1981 to 1990. In addition to be using Tensorflow's layers for processing sequence data such as Recurrent layers or LSTMs you will also use Convolutional layers to improve the model's performance.\n",
        "\n",
        "Let's get started!"
      ]
    },
    {
      "cell_type": "code",
      "execution_count": null,
      "metadata": {
        "id": "56XEQOGknrAk"
      },
      "outputs": [],
      "source": [
        "import csv\n",
        "import pickle\n",
        "import numpy as np\n",
        "import tensorflow as tf\n",
        "import matplotlib.pyplot as plt\n",
        "from dataclasses import dataclass"
      ]
    },
    {
      "cell_type": "markdown",
      "metadata": {
        "id": "CTI-MhFZQi1P"
      },
      "source": [
        "Begin by looking at the structure of the csv that contains the data:"
      ]
    },
    {
      "cell_type": "code",
      "execution_count": null,
      "metadata": {
        "id": "dhk7VYRpQi1Q",
        "outputId": "51319699-d6f6-44b9-c5c6-ba943d411f94"
      },
      "outputs": [
        {
          "name": "stdout",
          "output_type": "stream",
          "text": [
            "Header looks like this:\n",
            "\n",
            "\"Date\",\"Temp\"\n",
            "\n",
            "First data point looks like this:\n",
            "\n",
            "\"1981-01-01\",20.7\n",
            "\n",
            "Second data point looks like this:\n",
            "\n",
            "\"1981-01-02\",17.9\n",
            "\n"
          ]
        }
      ],
      "source": [
        "TEMPERATURES_CSV = './data/daily-min-temperatures.csv'\n",
        "\n",
        "with open(TEMPERATURES_CSV, 'r') as csvfile:\n",
        "    print(f\"Header looks like this:\\n\\n{csvfile.readline()}\")    \n",
        "    print(f\"First data point looks like this:\\n\\n{csvfile.readline()}\")\n",
        "    print(f\"Second data point looks like this:\\n\\n{csvfile.readline()}\")"
      ]
    },
    {
      "cell_type": "markdown",
      "metadata": {
        "id": "DbKqXz3cQi1R"
      },
      "source": [
        "As you can see, each data point is composed of the date and the recorded minimum temperature for that date.\n",
        "\n",
        "\n",
        "In the first exercise you will code a function to read the data from the csv but for now run the next cell to load a helper function to plot the time series."
      ]
    },
    {
      "cell_type": "code",
      "execution_count": null,
      "metadata": {
        "id": "sLl52leVp5wU"
      },
      "outputs": [],
      "source": [
        "def plot_series(time, series, format=\"-\", start=0, end=None):\n",
        "    plt.plot(time[start:end], series[start:end], format)\n",
        "    plt.xlabel(\"Time\")\n",
        "    plt.ylabel(\"Value\")\n",
        "    plt.grid(True)"
      ]
    },
    {
      "cell_type": "markdown",
      "metadata": {
        "id": "ULhcYr1eQi1S"
      },
      "source": [
        "## Parsing the raw data\n",
        "Now you need to read the data from the csv file. To do so, complete the `parse_data_from_file` function.\n",
        "\n",
        "A couple of things to note:\n",
        "\n",
        "- You should omit the first line as the file contains headers.\n",
        "- There is no need to save the data points as numpy arrays, regular lists is fine.\n",
        "- To read from csv files use `csv.reader` by passing the appropriate arguments.\n",
        "- `csv.reader` returns an iterable that returns each row in every iteration. So the temperature can be accessed via row[1] and the date can be discarded.\n",
        "- The `times` list should contain every timestep (starting at zero), which is just a sequence of ordered numbers with the same length as the `temperatures` list.\n",
        "- The values of the `temperatures` should be of `float` type. You can use Python's built-in `float` function to ensure this."
      ]
    },
    {
      "cell_type": "code",
      "execution_count": null,
      "metadata": {
        "id": "NcG9r1eClbTh"
      },
      "outputs": [],
      "source": [
        "def parse_data_from_file(filename):\n",
        "    \n",
        "    times = []\n",
        "    temperatures = []\n",
        "\n",
        "    with open(filename) as csvfile:\n",
        "        \n",
        "        \n",
        "        \n",
        "        reader = csv.reader(csvfile, delimiter=',')\n",
        "        next(reader)\n",
        "        i=0\n",
        "        for row in reader:\n",
        "            times.append(i)\n",
        "            temperatures.append(float(row[1]))\n",
        "            i = i+1\n",
        "        ### END CODE HERE\n",
        "            \n",
        "    return times, temperatures\n"
      ]
    },
    {
      "cell_type": "markdown",
      "metadata": {
        "id": "h7CubYQfQi1T"
      },
      "source": [
        "The next cell will use your function to compute the `times` and `temperatures` and will save these as numpy arrays within the `G` dataclass. This cell will also plot the time series:"
      ]
    },
    {
      "cell_type": "code",
      "execution_count": null,
      "metadata": {
        "id": "lHUFtDULQi1U",
        "outputId": "86235429-f07c-4035-a15d-a36a611ac33f"
      },
      "outputs": [
        {
          "data": {
            "image/png": "[encoded data removed]",
            "text/plain": [
              "<Figure size 720x432 with 1 Axes>"
            ]
          },
          "metadata": {
            "needs_background": "light"
          },
          "output_type": "display_data"
        }
      ],
      "source": [
        "# Test your function and save all \"global\" variables within the G class (G stands for global)\n",
        "@dataclass\n",
        "class G:\n",
        "    TEMPERATURES_CSV = './data/daily-min-temperatures.csv'\n",
        "    times, temperatures = parse_data_from_file(TEMPERATURES_CSV)\n",
        "    TIME = np.array(times)\n",
        "    SERIES = np.array(temperatures)\n",
        "    SPLIT_TIME = 2500\n",
        "    WINDOW_SIZE = 64\n",
        "    BATCH_SIZE = 256\n",
        "    SHUFFLE_BUFFER_SIZE = 1000\n",
        "\n",
        "\n",
        "plt.figure(figsize=(10, 6))\n",
        "plot_series(G.TIME, G.SERIES)\n",
        "plt.show()"
      ]
    },
    {
      "cell_type": "markdown",
      "metadata": {
        "id": "hkoz9QdRQi1U"
      },
      "source": [
        "**Expected Output:**\n",
        "<div>\n",
        "<img src=\"images/temp-series.png\" width=\"500\"/>\n",
        "</div>"
      ]
    },
    {
      "cell_type": "markdown",
      "metadata": {
        "id": "94JMWVraQi1V"
      },
      "source": [
        "## Processing the data\n",
        "\n",
        "Since you already coded the `train_val_split` and `windowed_dataset` functions during past week's assignments, this time they are provided for you:"
      ]
    },
    {
      "cell_type": "code",
      "execution_count": null,
      "metadata": {
        "id": "a5JJJmzLQi1V"
      },
      "outputs": [],
      "source": [
        "def train_val_split(time, series, time_step=G.SPLIT_TIME):\n",
        "\n",
        "    time_train = time[:time_step]\n",
        "    series_train = series[:time_step]\n",
        "    time_valid = time[time_step:]\n",
        "    series_valid = series[time_step:]\n",
        "\n",
        "    return time_train, series_train, time_valid, series_valid\n",
        "\n",
        "\n",
        "# Split the dataset\n",
        "time_train, series_train, time_valid, series_valid = train_val_split(G.TIME, G.SERIES)"
      ]
    },
    {
      "cell_type": "code",
      "execution_count": null,
      "metadata": {
        "id": "lJwUUZscnG38"
      },
      "outputs": [],
      "source": [
        "def windowed_dataset(series, window_size=G.WINDOW_SIZE, batch_size=G.BATCH_SIZE, shuffle_buffer=G.SHUFFLE_BUFFER_SIZE):\n",
        "    ds = tf.data.Dataset.from_tensor_slices(series)\n",
        "    ds = ds.window(window_size + 1, shift=1, drop_remainder=True)\n",
        "    ds = ds.flat_map(lambda w: w.batch(window_size + 1))\n",
        "    ds = ds.shuffle(shuffle_buffer)\n",
        "    ds = ds.map(lambda w: (w[:-1], w[-1]))\n",
        "    ds = ds.batch(batch_size).prefetch(1)\n",
        "    return ds\n",
        "\n",
        "\n",
        "# Apply the transformation to the training set\n",
        "train_set = windowed_dataset(series_train, window_size=G.WINDOW_SIZE, batch_size=G.BATCH_SIZE, shuffle_buffer=G.SHUFFLE_BUFFER_SIZE)"
      ]
    },
    {
      "cell_type": "markdown",
      "metadata": {
        "id": "2UCip1rCQi1W"
      },
      "source": [
        "## Defining the model architecture\n",
        "\n",
        "Now that you have a function that will process the data before it is fed into your neural network for training, it is time to define your layer architecture. Just as in last week's assignment you will do the layer definition and compilation in two separate steps. Begin by completing the `create_uncompiled_model` function below.\n",
        "\n",
        "This is done so you can reuse your model's layers for the learning rate adjusting and the actual training.\n",
        "\n",
        "Hint:\n",
        "\n",
        "- **Don' use `Lambda` layers** since they are not required and this will result in compatibility issues with the HDF5 format when saving your model for grading.\n",
        "- Use a combination of `Conv1D` and `LSTM` layers followed by `Dense` layers"
      ]
    },
    {
      "cell_type": "code",
      "execution_count": null,
      "metadata": {
        "id": "DIK6aw-fQi1W"
      },
      "outputs": [],
      "source": [
        "def create_uncompiled_model():\n",
        "\n",
        "    ### START CODE HERE\n",
        "    \n",
        "    model = tf.keras.models.Sequential([\n",
        "            tf.keras.layers.Conv1D(filters = 64, kernel_size = 3, strides = 1, \n",
        "                           activation = 'relu', padding = 'causal', input_shape = [G.WINDOW_SIZE, 1]),\n",
        "            tf.keras.layers.Bidirectional(tf.keras.layers.LSTM(32, return_sequences = True)),\n",
        "            tf.keras.layers.Bidirectional(tf.keras.layers.LSTM(32)),\n",
        "            tf.keras.layers.Dense(1)\n",
        "        \n",
        "    ]) \n",
        "    \n",
        "    ### END CODE HERE\n",
        "\n",
        "    return model"
      ]
    },
    {
      "cell_type": "code",
      "execution_count": null,
      "metadata": {
        "id": "87G72u-LQi1W",
        "outputId": "f4bb9e69-889e-4293-fe50-54fd7b60054a"
      },
      "outputs": [
        {
          "name": "stdout",
          "output_type": "stream",
          "text": [
            "Your current architecture is compatible with the windowed dataset! :)\n"
          ]
        }
      ],
      "source": [
        "# Test your uncompiled model\n",
        "uncompiled_model = create_uncompiled_model()\n",
        "\n",
        "try:\n",
        "    uncompiled_model.predict(train_set)\n",
        "except:\n",
        "    print(\"Your current architecture is incompatible with the windowed dataset, try adjusting it.\")\n",
        "else:\n",
        "    print(\"Your current architecture is compatible with the windowed dataset! :)\")"
      ]
    },
    {
      "cell_type": "markdown",
      "metadata": {
        "id": "EjIoUCimQi1W"
      },
      "source": [
        "## Adjusting the learning rate - (Optional Exercise)\n",
        "\n",
        "As you saw in the lecture you can leverage Tensorflow's callbacks to dinamically vary the learning rate during training. This can be helpful to get a better sense of which learning rate better acommodates to the problem at hand.\n",
        "\n",
        "**Notice that this is only changing the learning rate during the training process to give you an idea of what a reasonable learning rate is and should not be confused with selecting the best learning rate, this is known as hyperparameter optimization and it is outside the scope of this course.**\n",
        "\n",
        "For the optimizers you can try out:\n",
        "\n",
        "- tf.keras.optimizers.Adam\n",
        "- tf.keras.optimizers.SGD with a momentum of 0.9"
      ]
    },
    {
      "cell_type": "code",
      "execution_count": null,
      "metadata": {
        "id": "4T0kzVhsQi1X"
      },
      "outputs": [],
      "source": [
        "def adjust_learning_rate(dataset):\n",
        "    \n",
        "    model = create_uncompiled_model()\n",
        "    \n",
        "    lr_schedule = tf.keras.callbacks.LearningRateScheduler(lambda epoch: 1e-4 * 10**(epoch / 20))\n",
        "    \n",
        "    ### START CODE HERE\n",
        "    \n",
        "    # Select your optimizer\n",
        "    optimizer = tf.keras.optimizers.Adam()\n",
        "    \n",
        "    # Compile the model passing in the appropriate loss\n",
        "    model.compile(loss=tf.keras.losses.Huber(),\n",
        "                  optimizer=optimizer, \n",
        "                  metrics=[\"mae\"]) \n",
        "    \n",
        "    ### END CODE HERE\n",
        "    \n",
        "    history = model.fit(dataset, epochs=100, callbacks=[lr_schedule])\n",
        "    \n",
        "    return history"
      ]
    },
    {
      "cell_type": "code",
      "execution_count": null,
      "metadata": {
        "id": "I0qyxAZTQi1X",
        "outputId": "20be32e0-d067-4993-e2ec-0f466f9bb217"
      },
      "outputs": [
        {
          "name": "stdout",
          "output_type": "stream",
          "text": [
            "Epoch 1/100\n",
            "10/10 [==============================] - 9s 425ms/step - loss: 10.2825 - mae: 10.7816 - lr: 1.0000e-04\n",
            "Epoch 2/100\n",
            "10/10 [==============================] - 4s 412ms/step - loss: 9.9086 - mae: 10.4071 - lr: 1.1220e-04\n",
            "Epoch 3/100\n",
            "10/10 [==============================] - 4s 401ms/step - loss: 9.4919 - mae: 9.9904 - lr: 1.2589e-04\n",
            "Epoch 4/100\n",
            "10/10 [==============================] - 4s 400ms/step - loss: 8.9892 - mae: 9.4876 - lr: 1.4125e-04\n",
            "Epoch 5/100\n",
            "10/10 [==============================] - 4s 400ms/step - loss: 8.3644 - mae: 8.8623 - lr: 1.5849e-04\n",
            "Epoch 6/100\n",
            "10/10 [==============================] - 4s 401ms/step - loss: 7.6069 - mae: 8.1029 - lr: 1.7783e-04\n",
            "Epoch 7/100\n",
            "10/10 [==============================] - 4s 391ms/step - loss: 6.7690 - mae: 7.2625 - lr: 1.9953e-04\n",
            "Epoch 8/100\n",
            "10/10 [==============================] - 4s 412ms/step - loss: 5.9274 - mae: 6.4162 - lr: 2.2387e-04\n",
            "Epoch 9/100\n",
            "10/10 [==============================] - 4s 411ms/step - loss: 5.1579 - mae: 5.6447 - lr: 2.5119e-04\n",
            "Epoch 10/100\n",
            "10/10 [==============================] - 4s 401ms/step - loss: 4.4816 - mae: 4.9628 - lr: 2.8184e-04\n",
            "Epoch 11/100\n",
            "10/10 [==============================] - 4s 390ms/step - loss: 3.9067 - mae: 4.3815 - lr: 3.1623e-04\n",
            "Epoch 12/100\n",
            "10/10 [==============================] - 4s 411ms/step - loss: 3.4286 - mae: 3.9009 - lr: 3.5481e-04\n",
            "Epoch 13/100\n",
            "10/10 [==============================] - 4s 402ms/step - loss: 3.0753 - mae: 3.5477 - lr: 3.9811e-04\n",
            "Epoch 14/100\n",
            "10/10 [==============================] - 4s 401ms/step - loss: 2.8508 - mae: 3.3183 - lr: 4.4668e-04\n",
            "Epoch 15/100\n",
            "10/10 [==============================] - 4s 401ms/step - loss: 2.7142 - mae: 3.1795 - lr: 5.0119e-04\n",
            "Epoch 16/100\n",
            "10/10 [==============================] - 4s 410ms/step - loss: 2.5621 - mae: 3.0242 - lr: 5.6234e-04\n",
            "Epoch 17/100\n",
            "10/10 [==============================] - 4s 402ms/step - loss: 2.3756 - mae: 2.8355 - lr: 6.3096e-04\n",
            "Epoch 18/100\n",
            "10/10 [==============================] - 4s 389ms/step - loss: 2.2339 - mae: 2.6918 - lr: 7.0795e-04\n",
            "Epoch 19/100\n",
            "10/10 [==============================] - 4s 400ms/step - loss: 2.1311 - mae: 2.5872 - lr: 7.9433e-04\n",
            "Epoch 20/100\n",
            "10/10 [==============================] - 4s 412ms/step - loss: 2.0093 - mae: 2.4652 - lr: 8.9125e-04\n",
            "Epoch 21/100\n",
            "10/10 [==============================] - 4s 402ms/step - loss: 1.9039 - mae: 2.3565 - lr: 0.0010\n",
            "Epoch 22/100\n",
            "10/10 [==============================] - 4s 389ms/step - loss: 1.8478 - mae: 2.2959 - lr: 0.0011\n",
            "Epoch 23/100\n",
            "10/10 [==============================] - 4s 389ms/step - loss: 1.7751 - mae: 2.2223 - lr: 0.0013\n",
            "Epoch 24/100\n",
            "10/10 [==============================] - 4s 391ms/step - loss: 1.7759 - mae: 2.2230 - lr: 0.0014\n",
            "Epoch 25/100\n",
            "10/10 [==============================] - 4s 399ms/step - loss: 1.7020 - mae: 2.1473 - lr: 0.0016\n",
            "Epoch 26/100\n",
            "10/10 [==============================] - 4s 390ms/step - loss: 1.7235 - mae: 2.1714 - lr: 0.0018\n",
            "Epoch 27/100\n",
            "10/10 [==============================] - 4s 390ms/step - loss: 1.7701 - mae: 2.2200 - lr: 0.0020\n",
            "Epoch 28/100\n",
            "10/10 [==============================] - 4s 390ms/step - loss: 1.8024 - mae: 2.2554 - lr: 0.0022\n",
            "Epoch 29/100\n",
            "10/10 [==============================] - 4s 401ms/step - loss: 1.7798 - mae: 2.2309 - lr: 0.0025\n",
            "Epoch 30/100\n",
            "10/10 [==============================] - 4s 390ms/step - loss: 1.6565 - mae: 2.1030 - lr: 0.0028\n",
            "Epoch 31/100\n",
            "10/10 [==============================] - 4s 401ms/step - loss: 1.6265 - mae: 2.0690 - lr: 0.0032\n",
            "Epoch 32/100\n",
            "10/10 [==============================] - 4s 411ms/step - loss: 1.6305 - mae: 2.0786 - lr: 0.0035\n",
            "Epoch 33/100\n",
            "10/10 [==============================] - 4s 401ms/step - loss: 1.6132 - mae: 2.0619 - lr: 0.0040\n",
            "Epoch 34/100\n",
            "10/10 [==============================] - 4s 401ms/step - loss: 1.5619 - mae: 2.0053 - lr: 0.0045\n",
            "Epoch 35/100\n",
            "10/10 [==============================] - 4s 401ms/step - loss: 1.5297 - mae: 1.9715 - lr: 0.0050\n",
            "Epoch 36/100\n",
            "10/10 [==============================] - 4s 390ms/step - loss: 1.5524 - mae: 1.9957 - lr: 0.0056\n",
            "Epoch 37/100\n",
            "10/10 [==============================] - 4s 401ms/step - loss: 1.5341 - mae: 1.9804 - lr: 0.0063\n",
            "Epoch 38/100\n",
            "10/10 [==============================] - 4s 391ms/step - loss: 1.6098 - mae: 2.0526 - lr: 0.0071\n",
            "Epoch 39/100\n",
            "10/10 [==============================] - 4s 401ms/step - loss: 1.5426 - mae: 1.9819 - lr: 0.0079\n",
            "Epoch 40/100\n",
            "10/10 [==============================] - 4s 390ms/step - loss: 1.5317 - mae: 1.9786 - lr: 0.0089\n",
            "Epoch 41/100\n",
            "10/10 [==============================] - 4s 401ms/step - loss: 1.5832 - mae: 2.0246 - lr: 0.0100\n",
            "Epoch 42/100\n",
            "10/10 [==============================] - 4s 401ms/step - loss: 1.7466 - mae: 2.1936 - lr: 0.0112\n",
            "Epoch 43/100\n",
            "10/10 [==============================] - 4s 400ms/step - loss: 1.5968 - mae: 2.0415 - lr: 0.0126\n",
            "Epoch 44/100\n",
            "10/10 [==============================] - 4s 401ms/step - loss: 1.6066 - mae: 2.0504 - lr: 0.0141\n",
            "Epoch 45/100\n",
            "10/10 [==============================] - 4s 401ms/step - loss: 1.6133 - mae: 2.0592 - lr: 0.0158\n",
            "Epoch 46/100\n",
            "10/10 [==============================] - 4s 390ms/step - loss: 1.5960 - mae: 2.0429 - lr: 0.0178\n",
            "Epoch 47/100\n",
            "10/10 [==============================] - 4s 390ms/step - loss: 1.5541 - mae: 1.9971 - lr: 0.0200\n",
            "Epoch 48/100\n",
            "10/10 [==============================] - 4s 401ms/step - loss: 1.5917 - mae: 2.0395 - lr: 0.0224\n",
            "Epoch 49/100\n",
            "10/10 [==============================] - 4s 410ms/step - loss: 1.5134 - mae: 1.9557 - lr: 0.0251\n",
            "Epoch 50/100\n",
            "10/10 [==============================] - 4s 390ms/step - loss: 1.5551 - mae: 1.9981 - lr: 0.0282\n",
            "Epoch 51/100\n",
            "10/10 [==============================] - 4s 399ms/step - loss: 1.5912 - mae: 2.0337 - lr: 0.0316\n",
            "Epoch 52/100\n",
            "10/10 [==============================] - 4s 391ms/step - loss: 1.5622 - mae: 2.0033 - lr: 0.0355\n",
            "Epoch 53/100\n",
            "10/10 [==============================] - 4s 401ms/step - loss: 1.5460 - mae: 1.9898 - lr: 0.0398\n",
            "Epoch 54/100\n",
            "10/10 [==============================] - 4s 410ms/step - loss: 1.5729 - mae: 2.0185 - lr: 0.0447\n",
            "Epoch 55/100\n",
            "10/10 [==============================] - 4s 410ms/step - loss: 1.9339 - mae: 2.3875 - lr: 0.0501\n",
            "Epoch 56/100\n",
            "10/10 [==============================] - 4s 391ms/step - loss: 1.8714 - mae: 2.3299 - lr: 0.0562\n",
            "Epoch 57/100\n",
            "10/10 [==============================] - 4s 410ms/step - loss: 1.7495 - mae: 2.2011 - lr: 0.0631\n",
            "Epoch 58/100\n",
            "10/10 [==============================] - 4s 401ms/step - loss: 1.8147 - mae: 2.2677 - lr: 0.0708\n",
            "Epoch 59/100\n",
            "10/10 [==============================] - 4s 411ms/step - loss: 1.8282 - mae: 2.2806 - lr: 0.0794\n",
            "Epoch 60/100\n",
            "10/10 [==============================] - 4s 391ms/step - loss: 1.6934 - mae: 2.1414 - lr: 0.0891\n",
            "Epoch 61/100\n",
            "10/10 [==============================] - 4s 390ms/step - loss: 1.7465 - mae: 2.1971 - lr: 0.1000\n",
            "Epoch 62/100\n",
            "10/10 [==============================] - 4s 402ms/step - loss: 1.9530 - mae: 2.4092 - lr: 0.1122\n",
            "Epoch 63/100\n",
            "10/10 [==============================] - 4s 410ms/step - loss: 1.8823 - mae: 2.3370 - lr: 0.1259\n",
            "Epoch 64/100\n",
            "10/10 [==============================] - 4s 402ms/step - loss: 1.8667 - mae: 2.3213 - lr: 0.1413\n",
            "Epoch 65/100\n",
            "10/10 [==============================] - 4s 412ms/step - loss: 1.7940 - mae: 2.2406 - lr: 0.1585\n",
            "Epoch 66/100\n",
            "10/10 [==============================] - 4s 411ms/step - loss: 1.7960 - mae: 2.2432 - lr: 0.1778\n",
            "Epoch 67/100\n",
            "10/10 [==============================] - 4s 422ms/step - loss: 1.6863 - mae: 2.1291 - lr: 0.1995\n",
            "Epoch 68/100\n",
            "10/10 [==============================] - 4s 401ms/step - loss: 1.8391 - mae: 2.2911 - lr: 0.2239\n",
            "Epoch 69/100\n",
            "10/10 [==============================] - 4s 401ms/step - loss: 1.7625 - mae: 2.2150 - lr: 0.2512\n",
            "Epoch 70/100\n",
            "10/10 [==============================] - 4s 401ms/step - loss: 1.6994 - mae: 2.1498 - lr: 0.2818\n",
            "Epoch 71/100\n",
            "10/10 [==============================] - 4s 401ms/step - loss: 1.7525 - mae: 2.2013 - lr: 0.3162\n",
            "Epoch 72/100\n",
            "10/10 [==============================] - 4s 400ms/step - loss: 2.1531 - mae: 2.6105 - lr: 0.3548\n",
            "Epoch 73/100\n",
            "10/10 [==============================] - 4s 400ms/step - loss: 2.8650 - mae: 3.3345 - lr: 0.3981\n",
            "Epoch 74/100\n",
            "10/10 [==============================] - 4s 412ms/step - loss: 2.6995 - mae: 3.1643 - lr: 0.4467\n",
            "Epoch 75/100\n",
            "10/10 [==============================] - 4s 401ms/step - loss: 2.8300 - mae: 3.3004 - lr: 0.5012\n",
            "Epoch 76/100\n",
            "10/10 [==============================] - 4s 422ms/step - loss: 2.8927 - mae: 3.3621 - lr: 0.5623\n",
            "Epoch 77/100\n",
            "10/10 [==============================] - 4s 402ms/step - loss: 2.7962 - mae: 3.2632 - lr: 0.6310\n",
            "Epoch 78/100\n",
            "10/10 [==============================] - 4s 410ms/step - loss: 3.0517 - mae: 3.5204 - lr: 0.7079\n",
            "Epoch 79/100\n",
            "10/10 [==============================] - 4s 402ms/step - loss: 3.0470 - mae: 3.5164 - lr: 0.7943\n",
            "Epoch 80/100\n",
            "10/10 [==============================] - 4s 410ms/step - loss: 3.1984 - mae: 3.6711 - lr: 0.8913\n",
            "Epoch 81/100\n",
            "10/10 [==============================] - 4s 402ms/step - loss: 3.3751 - mae: 3.8488 - lr: 1.0000\n",
            "Epoch 82/100\n",
            "10/10 [==============================] - 4s 402ms/step - loss: 3.1663 - mae: 3.6360 - lr: 1.1220\n",
            "Epoch 83/100\n",
            "10/10 [==============================] - 4s 401ms/step - loss: 2.8293 - mae: 3.2952 - lr: 1.2589\n",
            "Epoch 84/100\n",
            "10/10 [==============================] - 4s 411ms/step - loss: 3.3952 - mae: 3.8688 - lr: 1.4125\n",
            "Epoch 85/100\n",
            "10/10 [==============================] - 4s 412ms/step - loss: 3.5121 - mae: 3.9868 - lr: 1.5849\n",
            "Epoch 86/100\n",
            "10/10 [==============================] - 4s 411ms/step - loss: 4.2181 - mae: 4.6964 - lr: 1.7783\n",
            "Epoch 87/100\n",
            "10/10 [==============================] - 4s 410ms/step - loss: 4.7919 - mae: 5.2711 - lr: 1.9953\n",
            "Epoch 88/100\n",
            "10/10 [==============================] - 4s 411ms/step - loss: 7.0318 - mae: 7.5184 - lr: 2.2387\n",
            "Epoch 89/100\n",
            "10/10 [==============================] - 4s 402ms/step - loss: 16.6533 - mae: 17.1484 - lr: 2.5119\n",
            "Epoch 90/100\n",
            "10/10 [==============================] - 4s 411ms/step - loss: 15.0311 - mae: 15.5303 - lr: 2.8184\n",
            "Epoch 91/100\n",
            "10/10 [==============================] - 4s 411ms/step - loss: 16.2047 - mae: 16.7047 - lr: 3.1623\n",
            "Epoch 92/100\n",
            "10/10 [==============================] - 4s 401ms/step - loss: 16.9693 - mae: 17.4693 - lr: 3.5481\n",
            "Epoch 93/100\n",
            "10/10 [==============================] - 4s 411ms/step - loss: 18.0878 - mae: 18.5878 - lr: 3.9811\n",
            "Epoch 94/100\n",
            "10/10 [==============================] - 4s 402ms/step - loss: 19.1627 - mae: 19.6627 - lr: 4.4668\n",
            "Epoch 95/100\n",
            "10/10 [==============================] - 4s 401ms/step - loss: 20.8931 - mae: 21.3931 - lr: 5.0119\n",
            "Epoch 96/100\n",
            "10/10 [==============================] - 4s 410ms/step - loss: 22.5763 - mae: 23.0763 - lr: 5.6234\n",
            "Epoch 97/100\n",
            "10/10 [==============================] - 4s 401ms/step - loss: 24.7234 - mae: 25.2234 - lr: 6.3096\n",
            "Epoch 98/100\n",
            "10/10 [==============================] - 4s 402ms/step - loss: 27.0782 - mae: 27.5782 - lr: 7.0795\n",
            "Epoch 99/100\n",
            "10/10 [==============================] - 4s 400ms/step - loss: 29.5504 - mae: 30.0504 - lr: 7.9433\n",
            "Epoch 100/100\n",
            "10/10 [==============================] - 4s 410ms/step - loss: 32.3749 - mae: 32.8749 - lr: 8.9125\n"
          ]
        }
      ],
      "source": [
        "# Run the training with dynamic LR\n",
        "lr_history = adjust_learning_rate(train_set)"
      ]
    },
    {
      "cell_type": "code",
      "execution_count": null,
      "metadata": {
        "colab": {
          "base_uri": "https://localhost:8080/",
          "height": 290
        },
        "id": "vVcKmg7Q_7rD",
        "outputId": "27cf16ae-eb85-47c3-fc86-18e72e528619"
      },
      "outputs": [
        {
          "data": {
            "text/plain": [
              "(0.0001, 10.0, 0.0, 10.0)"
            ]
          },
          "execution_count": 35,
          "metadata": {},
          "output_type": "execute_result"
        },
        {
          "data": {
            "image/png": "[encoded data removed]",
            "text/plain": [
              "<Figure size 432x288 with 1 Axes>"
            ]
          },
          "metadata": {
            "needs_background": "light"
          },
          "output_type": "display_data"
        }
      ],
      "source": [
        "plt.semilogx(lr_history.history[\"lr\"], lr_history.history[\"loss\"])\n",
        "plt.axis([1e-4, 10, 0, 10])"
      ]
    },
    {
      "cell_type": "markdown",
      "metadata": {
        "id": "NvYsJx2gQi1X"
      },
      "source": [
        "## Compiling the model\n",
        "Now that you have trained the model while varying the learning rate, it is time to do the actual training that will be used to forecast the time series. For this complete the `create_model` function below.\n",
        "\n",
        "Notice that you are reusing the architecture you defined in the `create_uncompiled_model` earlier. Now you only need to compile this model using the appropriate loss, optimizer (and learning rate).\n",
        "\n",
        "Hints:\n",
        "\n",
        "- The training should be really quick so if you notice that each epoch is taking more than a few seconds, consider trying a different architecture.\n",
        "\n",
        "\n",
        "- If after the first epoch you get an output like this: loss: nan - mae: nan it is very likely that your network is suffering from exploding gradients. This is a common problem if you used SGD as optimizer and set a learning rate that is too high. If you encounter this problem consider lowering the learning rate or using Adam with the default learning rate."
      ]
    },
    {
      "cell_type": "code",
      "execution_count": null,
      "metadata": {
        "id": "6H7G6wMrQi1Y"
      },
      "outputs": [],
      "source": [
        "def create_model():\n",
        "\n",
        "    \n",
        "    model = create_uncompiled_model()\n",
        "\n",
        "    ### START CODE HERE\n",
        "\n",
        "    model.compile(loss=tf.keras.losses.Huber(),\n",
        "                  optimizer=tf.keras.optimizers.Adam(),\n",
        "                  metrics=[\"mae\"])  \n",
        "    \n",
        "\n",
        "    ### END CODE HERE\n",
        "\n",
        "    return model"
      ]
    },
    {
      "cell_type": "code",
      "execution_count": null,
      "metadata": {
        "id": "2qIolwfVQi1Y",
        "outputId": "ea1d85ba-5459-40e0-bee6-c4363060973f"
      },
      "outputs": [
        {
          "name": "stdout",
          "output_type": "stream",
          "text": [
            "Epoch 1/50\n",
            "10/10 [==============================] - 9s 402ms/step - loss: 8.0086 - mae: 8.5059\n",
            "Epoch 2/50\n",
            "10/10 [==============================] - 4s 400ms/step - loss: 5.4713 - mae: 5.9595\n",
            "Epoch 3/50\n",
            "10/10 [==============================] - 4s 391ms/step - loss: 4.0068 - mae: 4.4829\n",
            "Epoch 4/50\n",
            "10/10 [==============================] - 4s 401ms/step - loss: 3.0971 - mae: 3.5680\n",
            "Epoch 5/50\n",
            "10/10 [==============================] - 4s 390ms/step - loss: 2.7429 - mae: 3.2094\n",
            "Epoch 6/50\n",
            "10/10 [==============================] - 4s 422ms/step - loss: 2.6773 - mae: 3.1427\n",
            "Epoch 7/50\n",
            "10/10 [==============================] - 4s 410ms/step - loss: 2.6685 - mae: 3.1349\n",
            "Epoch 8/50\n",
            "10/10 [==============================] - 4s 391ms/step - loss: 2.6570 - mae: 3.1231\n",
            "Epoch 9/50\n",
            "10/10 [==============================] - 4s 391ms/step - loss: 2.6373 - mae: 3.1030\n",
            "Epoch 10/50\n",
            "10/10 [==============================] - 4s 400ms/step - loss: 2.6069 - mae: 3.0717\n",
            "Epoch 11/50\n",
            "10/10 [==============================] - 4s 411ms/step - loss: 2.5493 - mae: 3.0122\n",
            "Epoch 12/50\n",
            "10/10 [==============================] - 4s 390ms/step - loss: 2.3488 - mae: 2.8075\n",
            "Epoch 13/50\n",
            "10/10 [==============================] - 4s 401ms/step - loss: 2.1616 - mae: 2.6173\n",
            "Epoch 14/50\n",
            "10/10 [==============================] - 4s 400ms/step - loss: 2.0211 - mae: 2.4773\n",
            "Epoch 15/50\n",
            "10/10 [==============================] - 4s 400ms/step - loss: 1.9024 - mae: 2.3551\n",
            "Epoch 16/50\n",
            "10/10 [==============================] - 4s 389ms/step - loss: 1.9088 - mae: 2.3580\n",
            "Epoch 17/50\n",
            "10/10 [==============================] - 4s 401ms/step - loss: 1.8196 - mae: 2.2665\n",
            "Epoch 18/50\n",
            "10/10 [==============================] - 4s 391ms/step - loss: 1.7470 - mae: 2.1922\n",
            "Epoch 19/50\n",
            "10/10 [==============================] - 4s 400ms/step - loss: 1.7142 - mae: 2.1599\n",
            "Epoch 20/50\n",
            "10/10 [==============================] - 4s 401ms/step - loss: 1.7234 - mae: 2.1723\n",
            "Epoch 21/50\n",
            "10/10 [==============================] - 4s 411ms/step - loss: 1.6565 - mae: 2.1023\n",
            "Epoch 22/50\n",
            "10/10 [==============================] - 4s 401ms/step - loss: 1.6205 - mae: 2.0661\n",
            "Epoch 23/50\n",
            "10/10 [==============================] - 4s 390ms/step - loss: 1.5895 - mae: 2.0335\n",
            "Epoch 24/50\n",
            "10/10 [==============================] - 4s 401ms/step - loss: 1.5873 - mae: 2.0306\n",
            "Epoch 25/50\n",
            "10/10 [==============================] - 4s 412ms/step - loss: 1.5604 - mae: 2.0013\n",
            "Epoch 26/50\n",
            "10/10 [==============================] - 4s 391ms/step - loss: 1.5676 - mae: 2.0110\n",
            "Epoch 27/50\n",
            "10/10 [==============================] - 4s 410ms/step - loss: 1.5730 - mae: 2.0136\n",
            "Epoch 28/50\n",
            "10/10 [==============================] - 4s 400ms/step - loss: 1.5491 - mae: 1.9896\n",
            "Epoch 29/50\n",
            "10/10 [==============================] - 4s 401ms/step - loss: 1.5387 - mae: 1.9807\n",
            "Epoch 30/50\n",
            "10/10 [==============================] - 4s 390ms/step - loss: 1.5333 - mae: 1.9754\n",
            "Epoch 31/50\n",
            "10/10 [==============================] - 4s 389ms/step - loss: 1.5207 - mae: 1.9619\n",
            "Epoch 32/50\n",
            "10/10 [==============================] - 4s 400ms/step - loss: 1.5448 - mae: 1.9857\n",
            "Epoch 33/50\n",
            "10/10 [==============================] - 4s 390ms/step - loss: 1.5727 - mae: 2.0190\n",
            "Epoch 34/50\n",
            "10/10 [==============================] - 4s 391ms/step - loss: 1.5572 - mae: 1.9983\n",
            "Epoch 35/50\n",
            "10/10 [==============================] - 4s 390ms/step - loss: 1.5383 - mae: 1.9817\n",
            "Epoch 36/50\n",
            "10/10 [==============================] - 4s 401ms/step - loss: 1.5216 - mae: 1.9618\n",
            "Epoch 37/50\n",
            "10/10 [==============================] - 4s 400ms/step - loss: 1.5087 - mae: 1.9503\n",
            "Epoch 38/50\n",
            "10/10 [==============================] - 4s 401ms/step - loss: 1.4984 - mae: 1.9397\n",
            "Epoch 39/50\n",
            "10/10 [==============================] - 4s 410ms/step - loss: 1.5130 - mae: 1.9555\n",
            "Epoch 40/50\n",
            "10/10 [==============================] - 4s 400ms/step - loss: 1.5245 - mae: 1.9658\n",
            "Epoch 41/50\n",
            "10/10 [==============================] - 4s 390ms/step - loss: 1.5169 - mae: 1.9583\n",
            "Epoch 42/50\n",
            "10/10 [==============================] - 4s 410ms/step - loss: 1.4902 - mae: 1.9316\n",
            "Epoch 43/50\n",
            "10/10 [==============================] - 4s 401ms/step - loss: 1.4838 - mae: 1.9230\n",
            "Epoch 44/50\n",
            "10/10 [==============================] - 4s 400ms/step - loss: 1.5061 - mae: 1.9498\n",
            "Epoch 45/50\n",
            "10/10 [==============================] - 4s 391ms/step - loss: 1.4918 - mae: 1.9288\n",
            "Epoch 46/50\n",
            "10/10 [==============================] - 4s 410ms/step - loss: 1.4841 - mae: 1.9234\n",
            "Epoch 47/50\n",
            "10/10 [==============================] - 4s 402ms/step - loss: 1.4900 - mae: 1.9300\n",
            "Epoch 48/50\n",
            "10/10 [==============================] - 4s 390ms/step - loss: 1.4921 - mae: 1.9353\n",
            "Epoch 49/50\n",
            "10/10 [==============================] - 4s 401ms/step - loss: 1.4752 - mae: 1.9170\n",
            "Epoch 50/50\n",
            "10/10 [==============================] - 4s 411ms/step - loss: 1.4714 - mae: 1.9108\n"
          ]
        }
      ],
      "source": [
        "# Save an instance of the model\n",
        "model = create_model()\n",
        "\n",
        "# Train it\n",
        "history = model.fit(train_set, epochs=50)"
      ]
    },
    {
      "cell_type": "markdown",
      "metadata": {
        "id": "KSdDoE0AQi1Y"
      },
      "source": [
        "## Evaluating the forecast\n",
        "\n",
        "Now it is time to evaluate the performance of the forecast. For this you can use the `compute_metrics` function that you coded in a previous assignment:"
      ]
    },
    {
      "cell_type": "code",
      "execution_count": null,
      "metadata": {
        "id": "RqP-wLFzQi1Y"
      },
      "outputs": [],
      "source": [
        "def compute_metrics(true_series, forecast):\n",
        "    \n",
        "    mse = tf.keras.metrics.mean_squared_error(true_series, forecast).numpy()\n",
        "    mae = tf.keras.metrics.mean_absolute_error(true_series, forecast).numpy()\n",
        "\n",
        "    return mse, mae"
      ]
    },
    {
      "cell_type": "markdown",
      "metadata": {
        "id": "itj29IL4Qi1Y"
      },
      "source": [
        "At this point only the model that will perform the forecast is ready but you still need to compute the actual forecast.\n",
        "\n"
      ]
    },
    {
      "cell_type": "markdown",
      "metadata": {
        "id": "KIPQcZt0Qi1Y"
      },
      "source": [
        "## Faster model forecasts\n",
        "\n",
        "In the previous week you saw a faster approach compared to using a for loop to compute the forecasts for every point in the sequence. Remember that this faster approach uses batches of data. \n",
        "\n",
        "The code to implement this is provided in the `model_forecast` below. Notice that the code is very similar to the one in the `windowed_dataset` function with the differences that:\n",
        "- The dataset is windowed using `window_size` rather than `window_size + 1`\n",
        "- No shuffle should be used\n",
        "- No need to split the data into features and labels\n",
        "- A model is used to predict batches of the dataset"
      ]
    },
    {
      "cell_type": "code",
      "execution_count": null,
      "metadata": {
        "id": "4XwGrf-A_wF0"
      },
      "outputs": [],
      "source": [
        "def model_forecast(model, series, window_size):\n",
        "    ds = tf.data.Dataset.from_tensor_slices(series)\n",
        "    ds = ds.window(window_size, shift=1, drop_remainder=True)\n",
        "    ds = ds.flat_map(lambda w: w.batch(window_size))\n",
        "    ds = ds.batch(32).prefetch(1)\n",
        "    forecast = model.predict(ds)\n",
        "    return forecast"
      ]
    },
    {
      "cell_type": "code",
      "execution_count": null,
      "metadata": {
        "colab": {
          "base_uri": "https://localhost:8080/",
          "height": 389
        },
        "id": "PrktQX3hKYex",
        "outputId": "1914662d-6bdd-4e17-8697-8f5a29e89b87"
      },
      "outputs": [
        {
          "data": {
            "image/png": "[encoded data removed]",
            "text/plain": [
              "<Figure size 720x432 with 1 Axes>"
            ]
          },
          "metadata": {
            "needs_background": "light"
          },
          "output_type": "display_data"
        }
      ],
      "source": [
        "# Compute the forecast for all the series\n",
        "rnn_forecast = model_forecast(model, G.SERIES, G.WINDOW_SIZE).squeeze()\n",
        "\n",
        "# Slice the forecast to get only the predictions for the validation set\n",
        "rnn_forecast = rnn_forecast[G.SPLIT_TIME - G.WINDOW_SIZE:-1]\n",
        "\n",
        "\n",
        "# Plot the forecast\n",
        "plt.figure(figsize=(10, 6))\n",
        "plot_series(time_valid, series_valid)\n",
        "plot_series(time_valid, rnn_forecast)"
      ]
    },
    {
      "cell_type": "code",
      "execution_count": null,
      "metadata": {
        "id": "JwguR-dyQi1Z",
        "outputId": "c7fa398e-e126-49e9-b114-1ec0710f4a86"
      },
      "outputs": [
        {
          "name": "stdout",
          "output_type": "stream",
          "text": [
            "mse: 5.92, mae: 1.91 for forecast\n"
          ]
        }
      ],
      "source": [
        "mse, mae = compute_metrics(series_valid, rnn_forecast)\n",
        "\n",
        "print(f\"mse: {mse:.2f}, mae: {mae:.2f} for forecast\")"
      ]
    },
    {
      "cell_type": "markdown",
      "metadata": {
        "id": "ZGmm4fZ0Qi1Z"
      },
      "source": [
        "**To pass this assignment your forecast should achieve a MSE of 6 or less and a MAE of 2 or less.**\n",
        "\n",
        "- If your forecast didn't achieve this threshold try re-training your model with a different architecture (you will need to re-run both `create_uncompiled_model` and `create_model` functions) or tweaking the optimizer's parameters.\n",
        "\n",
        "\n",
        "- If your forecast did achieve this threshold run the following cell to save the model in a HDF5 file which will be used for grading and after doing so, submit your assigment for grading.\n",
        "\n",
        "\n",
        "- This environment includes a dummy `my_model.h5` file which is just a dummy model trained for one epoch. **To replace this file with your actual model you need to run the next cell before submitting for grading.**"
      ]
    },
    {
      "cell_type": "code",
      "execution_count": null,
      "metadata": {
        "id": "JxcBbqQTQi1Z"
      },
      "outputs": [],
      "source": [
        "# Save your model into a HDF5 file\n",
        "model.save(\"my_model.h5\")"
      ]
    },
    {
      "cell_type": "markdown",
      "metadata": {
        "id": "TVGG7Yo7Qi1Z"
      },
      "source": [
        "**Congratulations on finishing this week's assignment!**\n",
        "\n",
        "You have successfully implemented a neural network capable of forecasting time series leveraging a combination of Tensorflow's layers such as Convolutional and LSTMs! This resulted in a forecast that surpasses all the ones you did previously.\n",
        "\n",
        "**By finishing this assignment you have finished the specialization! Give yourself a pat on the back!!!**"
      ]
    }
  ],
  "metadata": {
    "kernelspec": {
      "display_name": "Python 3",
      "language": "python",
      "name": "python3"
    },
    "language_info": {
      "codemirror_mode": {
        "name": "ipython",
        "version": 3
      },
      "file_extension": ".py",
      "mimetype": "text/x-python",
      "name": "python",
      "nbconvert_exporter": "python",
      "pygments_lexer": "ipython3",
      "version": "3.8.8"
    },
    "colab": {
      "name": "C4W4_Assignment-Time series and prediction on Daily minimum temperature in Melbourne dataset.ipynb",
      "provenance": [],
      "include_colab_link": true
    }
  },
  "nbformat": 4,
  "nbformat_minor": 0
}